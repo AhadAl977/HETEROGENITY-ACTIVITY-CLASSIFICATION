{
 "cells": [
  {
   "cell_type": "markdown",
   "id": "3d2c3b5c",
   "metadata": {},
   "source": [
    "## Notebook Content"
   ]
  },
  {
   "cell_type": "markdown",
   "id": "3636de7c",
   "metadata": {},
   "source": [
    "This notebook contains:<br>\n",
    "    1. Defining important reusable methods.<br>\n",
    "    2. Reading data from sql.<br>\n",
    "    3. Dropping some columns.<br>\n",
    "    4. Merging the train & validation sets for refitting.<br>\n",
    "    5. Refitting the model.<br>\n",
    "    6. Reporting on test data.<br>\n",
    "    7. Confusion matrix for the final result.<br>"
   ]
  },
  {
   "cell_type": "markdown",
   "id": "1c9f9bb5",
   "metadata": {},
   "source": [
    "### Importing Needed Library "
   ]
  },
  {
   "cell_type": "code",
   "execution_count": 1,
   "id": "3a3083d7",
   "metadata": {},
   "outputs": [],
   "source": [
    "import pandas as pd\n",
    "from sklearn.metrics import precision_score, recall_score, f1_score, confusion_matrix\n",
    "import sqlite3 as sql\n",
    "from sklearn.tree import DecisionTreeClassifier\n",
    "from sklearn.ensemble import RandomForestClassifier, ExtraTreesClassifier\n",
    "from mlxtend.classifier import StackingClassifier\n",
    "from ipywidgets import interactive, FloatSlider\n",
    "import matplotlib.pyplot as plt\n",
    "import seaborn as sns"
   ]
  },
  {
   "cell_type": "markdown",
   "id": "ac4b4761",
   "metadata": {},
   "source": [
    "### Used Methods"
   ]
  },
  {
   "cell_type": "code",
   "execution_count": 2,
   "id": "c82b706f",
   "metadata": {},
   "outputs": [],
   "source": [
    "def getScores(model_,X_train_val_, y_train_val_, X_test_, y_test_, y_pred_):\n",
    "     \"\"\"\n",
    "    This method gets all the needed scores (accuracy, precision, recall and f1) \n",
    "    from the training/validation sets after getting the model, x train and\n",
    "    validation, y train and validation, and the y predicted\n",
    "    \"\"\"\n",
    "    print(\"All Data Score \",model_.score(X_train_val_, y_train_val_))\n",
    "    print(\"Testing Score \",model_.score(X_test_, y_test_))\n",
    "    print(\"Precision: {:6.4f},   Recall: {:6.4f}, f1: {:6.4f}\".format(precision_score(y_test_, y_pred_), \n",
    "                                                         recall_score(y_test_, y_pred_),f1_score(y_test_,y_pred_)))"
   ]
  },
  {
   "cell_type": "code",
   "execution_count": 3,
   "id": "cbf155f5",
   "metadata": {},
   "outputs": [],
   "source": [
    "def make_confusion_matrix(model, threshold=0.5):\n",
    "      \"\"\"\n",
    "    This method draws the confusion matrixs for each given model\n",
    "    \"\"\"\n",
    "    y_predict = (model.predict_proba(X_test)[:, 1] >= threshold)\n",
    "    avtivity_confusion = confusion_matrix(y_test, y_predict)\n",
    "    plt.figure(dpi=80)\n",
    "    sns.heatmap(avtivity_confusion, cmap=plt.cm.Blues, annot=True, square=True, fmt='d',\n",
    "           xticklabels=['Stationary', 'Moving'],\n",
    "           yticklabels=['Stationary', 'Moving']);\n",
    "    plt.xlabel('prediction')\n",
    "    plt.ylabel('actual')"
   ]
  },
  {
   "cell_type": "markdown",
   "id": "b27bbfce",
   "metadata": {},
   "source": [
    "### Read data from SQL"
   ]
  },
  {
   "cell_type": "code",
   "execution_count": 4,
   "id": "f13e3f62",
   "metadata": {},
   "outputs": [],
   "source": [
    "X_train_conn = sql.connect('Data/X_train_after_FE.db')\n",
    "X_train = pd.read_sql('SELECT * FROM X_train_after_FE', X_train_conn)\n",
    "\n",
    "X_val_conn = sql.connect('Data/X_val_after_FE.db')\n",
    "X_val = pd.read_sql('SELECT * FROM X_val_after_FE', X_val_conn)\n",
    "\n",
    "\n",
    "X_test_conn = sql.connect('Data/X_test_after_FE.db')\n",
    "X_test = pd.read_sql('SELECT * FROM X_test_after_FE', X_test_conn)\n",
    "\n",
    "\n",
    "y_train_conn = sql.connect('Data/y_train_after_FE.db')\n",
    "y_train = pd.read_sql('SELECT * FROM y_train_after_FE', y_train_conn)\n",
    "\n",
    "\n",
    "y_val_conn = sql.connect('Data/y_val_after_FE.db')\n",
    "y_val = pd.read_sql('SELECT * FROM y_val_after_FE', y_val_conn)\n",
    "\n",
    "\n",
    "y_test_conn = sql.connect('Data/y_test_after_FE.db')\n",
    "y_test = pd.read_sql('SELECT * FROM y_test_after_FE', y_test_conn)"
   ]
  },
  {
   "cell_type": "markdown",
   "id": "4e651c21",
   "metadata": {},
   "source": [
    "### Drop index column"
   ]
  },
  {
   "cell_type": "code",
   "execution_count": 5,
   "id": "7e3bd197",
   "metadata": {},
   "outputs": [],
   "source": [
    "#drop index column\n",
    "X_train.drop('index', axis='columns', inplace = True)\n",
    "X_val.drop('index', axis='columns', inplace = True)\n",
    "X_test.drop('index', axis='columns', inplace = True)\n",
    "y_train.drop('index', axis='columns', inplace = True)\n",
    "y_val.drop('index', axis='columns', inplace = True)\n",
    "y_test.drop('index', axis='columns', inplace = True)"
   ]
  },
  {
   "cell_type": "markdown",
   "id": "4e4fb55f",
   "metadata": {},
   "source": [
    "### Merge train and validation data"
   ]
  },
  {
   "cell_type": "markdown",
   "id": "7f109456",
   "metadata": {},
   "source": [
    "Merging both the training and validation sets for the purpose of refitting the whole data in the model."
   ]
  },
  {
   "cell_type": "code",
   "execution_count": 6,
   "id": "5ea1c780",
   "metadata": {},
   "outputs": [],
   "source": [
    "X_train_val = pd.concat([X_train, X_val])\n",
    "y_train_val = pd.concat([y_train, y_val])"
   ]
  },
  {
   "cell_type": "markdown",
   "id": "9113f970",
   "metadata": {},
   "source": [
    "### Refit The final model "
   ]
  },
  {
   "cell_type": "code",
   "execution_count": 7,
   "id": "4a0f6d12",
   "metadata": {},
   "outputs": [
    {
     "name": "stderr",
     "output_type": "stream",
     "text": [
      "<ipython-input-7-fbaa43bc172c>:2: DataConversionWarning: A column-vector y was passed when a 1d array was expected. Please change the shape of y to (n_samples,), for example using ravel().\n",
      "  et_model.fit(X_train_val, y_train_val)\n",
      "<ipython-input-7-fbaa43bc172c>:5: DataConversionWarning: A column-vector y was passed when a 1d array was expected. Please change the shape of y to (n_samples,), for example using ravel().\n",
      "  randomforest.fit(X_train_val, y_train_val)\n"
     ]
    }
   ],
   "source": [
    "et_model = ExtraTreesClassifier(n_estimators=100, random_state=77)\n",
    "et_model.fit(X_train_val, y_train_val)\n",
    "\n",
    "randomforest = RandomForestClassifier(n_estimators=100, random_state = 77)\n",
    "randomforest.fit(X_train_val, y_train_val)\n",
    "\n",
    "decisiontree = DecisionTreeClassifier(max_depth=17, random_state = 77)\n",
    "decisiontree.fit(X_train_val, y_train_val)\n",
    "\n",
    "model_names = [\"randomforest\", \"decisiontree\" ,\"et_model\"]\n",
    "model_vars = [eval(n) for n in model_names]"
   ]
  },
  {
   "cell_type": "code",
   "execution_count": 8,
   "id": "fb5ef557",
   "metadata": {
    "scrolled": true
   },
   "outputs": [
    {
     "name": "stderr",
     "output_type": "stream",
     "text": [
      "/opt/anaconda3/lib/python3.8/site-packages/mlxtend/classifier/stacking_classification.py:189: DataConversionWarning: A column-vector y was passed when a 1d array was expected. Please change the shape of y to (n_samples,), for example using ravel().\n",
      "  clf.fit(X, y)\n",
      "/opt/anaconda3/lib/python3.8/site-packages/mlxtend/classifier/stacking_classification.py:189: DataConversionWarning: A column-vector y was passed when a 1d array was expected. Please change the shape of y to (n_samples,), for example using ravel().\n",
      "  clf.fit(X, y)\n",
      "/opt/anaconda3/lib/python3.8/site-packages/mlxtend/classifier/stacking_classification.py:206: DataConversionWarning: A column-vector y was passed when a 1d array was expected. Please change the shape of y to (n_samples,), for example using ravel().\n",
      "  self.meta_clf_.fit(meta_features, y)\n"
     ]
    },
    {
     "data": {
      "text/plain": [
       "StackingClassifier(classifiers=[RandomForestClassifier(random_state=77),\n",
       "                                DecisionTreeClassifier(max_depth=17,\n",
       "                                                       random_state=77),\n",
       "                                ExtraTreesClassifier(random_state=77)],\n",
       "                   meta_classifier=RandomForestClassifier())"
      ]
     },
     "execution_count": 8,
     "metadata": {},
     "output_type": "execute_result"
    }
   ],
   "source": [
    "stacked = StackingClassifier(\n",
    "    classifiers=model_vars, meta_classifier=RandomForestClassifier(n_estimators=100), use_probas=False)\n",
    "stacked.fit(X_train_val, y_train_val)"
   ]
  },
  {
   "cell_type": "markdown",
   "id": "6609fc2f",
   "metadata": {},
   "source": [
    "### Reporting the final scores"
   ]
  },
  {
   "cell_type": "code",
   "execution_count": 9,
   "id": "f6700815",
   "metadata": {},
   "outputs": [],
   "source": [
    "y_pred_ss = stacked.predict(X_test)"
   ]
  },
  {
   "cell_type": "code",
   "execution_count": 10,
   "id": "aff6a427",
   "metadata": {
    "scrolled": true
   },
   "outputs": [
    {
     "name": "stdout",
     "output_type": "stream",
     "text": [
      "All Data Score  0.9991787187291753\n",
      "Testing Score  0.9636855862584018\n",
      "Precision: 0.9680,   Recall: 0.9772, f1: 0.9726\n"
     ]
    }
   ],
   "source": [
    "getScores(stacked, X_train_val, y_train_val, X_test, y_test, y_pred_ss)"
   ]
  },
  {
   "cell_type": "markdown",
   "id": "14fb8295",
   "metadata": {},
   "source": [
    "|        Model          | Whole Data Accuracy  | Tesing Accuracy | F1      | Recall  | Precision  |\n",
    "|-----------------------|--------------------|-------------------|---------|---------|------------|\n",
    "| Stacking              | 0.9991         | 0.9636                | 0.9726  | 0.9772  | 0.9680     |"
   ]
  },
  {
   "cell_type": "code",
   "execution_count": 12,
   "id": "fb159261",
   "metadata": {},
   "outputs": [
    {
     "data": {
      "application/vnd.jupyter.widget-view+json": {
       "model_id": "322b67556ca24108b852321dbac1e334",
       "version_major": 2,
       "version_minor": 0
      },
      "text/plain": [
       "interactive(children=(FloatSlider(value=0.5, description='threshold', max=1.0, step=0.02), Output()), _dom_cla…"
      ]
     },
     "metadata": {},
     "output_type": "display_data"
    }
   ],
   "source": [
    "interactive(lambda threshold: make_confusion_matrix(stacked, threshold), threshold=(0.0,1.0,0.02))"
   ]
  },
  {
   "cell_type": "code",
   "execution_count": null,
   "id": "b10596b5",
   "metadata": {},
   "outputs": [],
   "source": []
  }
 ],
 "metadata": {
  "kernelspec": {
   "display_name": "Python 3",
   "language": "python",
   "name": "python3"
  },
  "language_info": {
   "codemirror_mode": {
    "name": "ipython",
    "version": 3
   },
   "file_extension": ".py",
   "mimetype": "text/x-python",
   "name": "python",
   "nbconvert_exporter": "python",
   "pygments_lexer": "ipython3",
   "version": "3.8.8"
  }
 },
 "nbformat": 4,
 "nbformat_minor": 5
}
